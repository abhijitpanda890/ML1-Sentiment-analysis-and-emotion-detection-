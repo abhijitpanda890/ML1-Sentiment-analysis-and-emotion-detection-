{
  "nbformat": 4,
  "nbformat_minor": 0,
  "metadata": {
    "accelerator": "GPU",
    "colab": {
      "name": "Sentiment Analysis (Yelp Polarity Reviews) using RNN",
      "provenance": [],
      "collapsed_sections": []
    },
    "kernelspec": {
      "display_name": "Python 3",
      "name": "python3"
    }
  },
  "cells": [
    {
      "cell_type": "code",
      "metadata": {
        "id": "mxqDEqMUDmMw"
      },
      "source": [
        "import numpy as np\n",
        "\n",
        "import tensorflow_datasets as tfds\n",
        "import tensorflow as tf\n",
        "\n",
        "tfds.disable_progress_bar()"
      ],
      "execution_count": null,
      "outputs": []
    },
    {
      "cell_type": "code",
      "metadata": {
        "id": "Xl49I9Y8D2bu"
      },
      "source": [
        "import matplotlib.pyplot as plt\n",
        "\n",
        "\n",
        "def plot_graphs(history, metric):\n",
        "  plt.plot(history.history[metric])\n",
        "  plt.plot(history.history['val_'+metric], '')\n",
        "  plt.xlabel(\"Epochs\")\n",
        "  plt.ylabel(metric)\n",
        "  plt.legend([metric, 'val_'+metric])"
      ],
      "execution_count": null,
      "outputs": []
    },
    {
      "cell_type": "code",
      "metadata": {
        "colab": {
          "base_uri": "https://localhost:8080/"
        },
        "id": "RSV5zLvkD5MS",
        "outputId": "7dda3f51-95a5-4207-f465-a9a6b163c214"
      },
      "source": [
        "dataset, info = tfds.load('yelp_polarity_reviews', with_info=True,\n",
        "                          as_supervised=True)\n",
        "train_dataset, test_dataset = dataset['train'], dataset['test']\n",
        "\n",
        "train_dataset.element_spec"
      ],
      "execution_count": null,
      "outputs": [
        {
          "output_type": "stream",
          "text": [
            "\u001b[1mDownloading and preparing dataset yelp_polarity_reviews/plain_text/0.1.0 (download: Unknown size, generated: 435.14 MiB, total: 435.14 MiB) to /root/tensorflow_datasets/yelp_polarity_reviews/plain_text/0.1.0...\u001b[0m\n",
            "Shuffling and writing examples to /root/tensorflow_datasets/yelp_polarity_reviews/plain_text/0.1.0.incompleteEAUSBZ/yelp_polarity_reviews-train.tfrecord\n"
          ],
          "name": "stdout"
        },
        {
          "output_type": "stream",
          "text": [
            "WARNING:absl:Dataset is using deprecated text encoder API which will be removed soon. Please use the plain_text version of the dataset and migrate to `tensorflow_text`.\n"
          ],
          "name": "stderr"
        },
        {
          "output_type": "stream",
          "text": [
            "Shuffling and writing examples to /root/tensorflow_datasets/yelp_polarity_reviews/plain_text/0.1.0.incompleteEAUSBZ/yelp_polarity_reviews-test.tfrecord\n",
            "\u001b[1mDataset yelp_polarity_reviews downloaded and prepared to /root/tensorflow_datasets/yelp_polarity_reviews/plain_text/0.1.0. Subsequent calls will reuse this data.\u001b[0m\n"
          ],
          "name": "stdout"
        },
        {
          "output_type": "execute_result",
          "data": {
            "text/plain": [
              "(TensorSpec(shape=(), dtype=tf.string, name=None),\n",
              " TensorSpec(shape=(), dtype=tf.int64, name=None))"
            ]
          },
          "metadata": {
            "tags": []
          },
          "execution_count": 3
        }
      ]
    },
    {
      "cell_type": "code",
      "metadata": {
        "colab": {
          "base_uri": "https://localhost:8080/"
        },
        "id": "3r4Ove23Erpn",
        "outputId": "d365ab38-91f8-4cbe-f63b-dc2edb61eb00"
      },
      "source": [
        "for example, label in train_dataset.take(1):\n",
        "  print('text: ', example.numpy())\n",
        "  print('label: ', label.numpy())"
      ],
      "execution_count": null,
      "outputs": [
        {
          "output_type": "stream",
          "text": [
            "text:  b\"The Groovy P. and I ventured to his old stomping grounds for lunch today.  The '5 and Diner' on 16th St and Colter left me with little to ask for.  Before coming here I had a preconceived notion that 5 & Diners were dirty and nasty. Not the case at all.\\\\n\\\\nWe walk in and let the waitress know we want to sit outside (since it's so nice and they had misters).  We get two different servers bringing us stuff (talk about service) and I ask the one waitress for recommendations.  I didn't listen to her, of course, and ordered the Southwestern Burger w/ coleslaw and started with a nice stack of rings.\\\\n\\\\nThe Onion Rings were perfectly cooked.  They looked like they were prepackaged, but they were very crispy and I could actually bite through the onion without pulling the entire thing out (don't you hate that?!!!)\\\\n\\\\nThe Southwestern Burger was order Medium Rare and was cooked accordingly.  Soft, juicy, and pink with a nice crispy browned outer layer that can only be achieved on a well used grill.  The creaminess of the chipotle mayo paired beautifully with the green chiles.  Unfortunately, because I ate too many onion rings, I couldn't finish my burger.  What a shame!\\\\n\\\\nThe Coleslaw was just how I like it.  It's hard to find a really good coleslaw.  I prefer mine to be slightly sweet, not sour.  Too much vinegar in slaw ruins it in my opinion.  This slaw had the perfect marriage of mayo, vinegar, and sugar. Not to mention carrots...\\\\n\\\\nMy experience here was great!  The servers were top notch and kept my water full the entire time and actually chatted with us for a few minutes.\\\\n\\\\nThere is an artist guy named Ross who has been there every day for 5393 days straight. No, not an employee.  He goes there and does his art! He hasn't missed a SINGLE day!!! That's like... 15 years! So if you wanna seem to be 'in the know' ask where Ross is... They'll be able to tell you.\\\\n\\\\nTime for a nap!\"\n",
            "label:  1\n"
          ],
          "name": "stdout"
        }
      ]
    },
    {
      "cell_type": "code",
      "metadata": {
        "id": "dqO64KL0E1Zc"
      },
      "source": [
        "BUFFER_SIZE = 10000\n",
        "BATCH_SIZE = 128"
      ],
      "execution_count": null,
      "outputs": []
    },
    {
      "cell_type": "code",
      "metadata": {
        "id": "DN_ZKttKFDsO"
      },
      "source": [
        "train_dataset = train_dataset.shuffle(BUFFER_SIZE).batch(BATCH_SIZE).prefetch(tf.data.AUTOTUNE)\n",
        "test_dataset = test_dataset.batch(BATCH_SIZE).prefetch(tf.data.AUTOTUNE)"
      ],
      "execution_count": null,
      "outputs": []
    },
    {
      "cell_type": "code",
      "metadata": {
        "colab": {
          "base_uri": "https://localhost:8080/"
        },
        "id": "ImjriAWcFP5-",
        "outputId": "e62fd614-d78c-4736-a183-972067faa281"
      },
      "source": [
        "for example, label in train_dataset.take(1):\n",
        "  print('texts: ', example.numpy()[:3])\n",
        "  print()\n",
        "  print('labels: ', label.numpy()[:3])"
      ],
      "execution_count": null,
      "outputs": [
        {
          "output_type": "stream",
          "text": [
            "texts:  [b\"WinCo is fairly close to me and my dad was really excited they were coming to the East Valley, and especially near where we live.  However, the prices aren't all that inexpensive.  However, they have a reasonably good bulk section, which is why we come here and their prices for some of their deli stuff is better than Safeway, which is usually where we go for things like chicken strips, fried chicken, wedges.  WinCo's stuff tastes good and it's much better pricing for that.\\\\n\\\\nWe buy protein powder and it's about $3-4/lb less than Sprouts for their whey protein.  We love that they carry spices in bulk, and you can get what you want, which saves us money, too.\\\\n\\\\nEveryone that we've dealt with at WinCo has been super friendly and helpful.  The store is spacious and clean.  \\\\n\\\\nThe only downside is that some of their prices are competitive, but since they have no weekly ads, it's hard for them to compete with Frys and the stores that sometimes have killer weekly specials.  If they did do this, then they might attract even more customers.\\\\n\\\\nEven though they have a thing that says you can buy in bulk without the membership fees, Costco still does have better pricing on a number of things that far surpasses the extra pricing you would pay for a basic membership at Costco.\"\n",
            " b'Great people, great customer service. The tempura chicken strips (Lotsa) chicken strips are really good with the homemade potato chips! Def Suggest to check it out!'\n",
            " b\"This is the best burrito in Charlotte in my opinion.  I have been to Phat Burrito too and was unimpressed.  They have more meat selections than your typical Moe's, Chipotle, Qdoba, etc.  They load the burrito up with toppings and they don't charge extra for guac (YES!!).  The hot sauces they have are HOT and I love it!  It sucks this place is uptown or else I would be a regular.\"]\n",
            "\n",
            "labels:  [1 1 1]\n"
          ],
          "name": "stdout"
        }
      ]
    },
    {
      "cell_type": "code",
      "metadata": {
        "id": "b3lcjmcaFWVE"
      },
      "source": [
        "VOCAB_SIZE = 1000\n",
        "encoder = tf.keras.layers.experimental.preprocessing.TextVectorization(\n",
        "    max_tokens=VOCAB_SIZE)\n",
        "encoder.adapt(train_dataset.map(lambda text, label: text))"
      ],
      "execution_count": null,
      "outputs": []
    },
    {
      "cell_type": "code",
      "metadata": {
        "colab": {
          "base_uri": "https://localhost:8080/"
        },
        "id": "N5Tvv3tlFaJT",
        "outputId": "31968f73-18be-404f-b68c-e6a7c39f9f3d"
      },
      "source": [
        "vocab = np.array(encoder.get_vocabulary())\n",
        "vocab[:20]\n",
        "encoded_example = encoder(example)[:3].numpy()\n",
        "encoded_example"
      ],
      "execution_count": null,
      "outputs": [
        {
          "output_type": "execute_result",
          "data": {
            "text/plain": [
              "array([[ 1, 12,  1, ...,  0,  0,  0],\n",
              "       [53, 99, 53, ...,  0,  0,  0],\n",
              "       [16, 12,  2, ...,  0,  0,  0]])"
            ]
          },
          "metadata": {
            "tags": []
          },
          "execution_count": 9
        }
      ]
    },
    {
      "cell_type": "code",
      "metadata": {
        "colab": {
          "base_uri": "https://localhost:8080/"
        },
        "id": "pgz3ct8BFh0i",
        "outputId": "7ca5f6b4-a92e-46c7-eb76-4e56cf9c0ee1"
      },
      "source": [
        "for n in range(3):\n",
        "  print(\"Original: \", example[n].numpy())\n",
        "  print(\"Round-trip: \", \" \".join(vocab[encoded_example[n]]))\n",
        "  print()"
      ],
      "execution_count": null,
      "outputs": [
        {
          "output_type": "stream",
          "text": [
            "Original:  b\"WinCo is fairly close to me and my dad was really excited they were coming to the East Valley, and especially near where we live.  However, the prices aren't all that inexpensive.  However, they have a reasonably good bulk section, which is why we come here and their prices for some of their deli stuff is better than Safeway, which is usually where we go for things like chicken strips, fried chicken, wedges.  WinCo's stuff tastes good and it's much better pricing for that.\\\\n\\\\nWe buy protein powder and it's about $3-4/lb less than Sprouts for their whey protein.  We love that they carry spices in bulk, and you can get what you want, which saves us money, too.\\\\n\\\\nEveryone that we've dealt with at WinCo has been super friendly and helpful.  The store is spacious and clean.  \\\\n\\\\nThe only downside is that some of their prices are competitive, but since they have no weekly ads, it's hard for them to compete with Frys and the stores that sometimes have killer weekly specials.  If they did do this, then they might attract even more customers.\\\\n\\\\nEven though they have a thing that says you can buy in bulk without the membership fees, Costco still does have better pricing on a number of things that far surpasses the extra pricing you would pay for a basic membership at Costco.\"\n",
            "Round-trip:  [UNK] is [UNK] close to me and my [UNK] was really excited they were coming to the [UNK] valley and especially near where we live however the prices arent all that [UNK] however they have a [UNK] good [UNK] section which is why we come here and their prices for some of their [UNK] stuff is better than [UNK] which is usually where we go for things like chicken [UNK] fried chicken [UNK] [UNK] stuff tastes good and its much better [UNK] for [UNK] buy [UNK] [UNK] and its about [UNK] less than [UNK] for their [UNK] [UNK] we love that they [UNK] [UNK] in [UNK] and you can get what you want which [UNK] us money [UNK] that weve [UNK] with at [UNK] has been super friendly and helpful the store is [UNK] and clean nnthe only [UNK] is that some of their prices are [UNK] but since they have no [UNK] [UNK] its hard for them to [UNK] with [UNK] and the [UNK] that sometimes have [UNK] [UNK] specials if they did do this then they might [UNK] even more [UNK] though they have a thing that says you can buy in [UNK] without the [UNK] [UNK] [UNK] still does have better [UNK] on a number of things that far [UNK] the extra [UNK] you would pay for a [UNK] [UNK] at [UNK]                                                                                                                                                                                                                                                                                          \n",
            "\n",
            "Original:  b'Great people, great customer service. The tempura chicken strips (Lotsa) chicken strips are really good with the homemade potato chips! Def Suggest to check it out!'\n",
            "Round-trip:  great people great customer service the [UNK] chicken [UNK] [UNK] chicken [UNK] are really good with the [UNK] potato chips [UNK] [UNK] to check it out                                                                                                                                                                                                                                                                                                                                                                                                                                                                                                 \n",
            "\n",
            "Original:  b\"This is the best burrito in Charlotte in my opinion.  I have been to Phat Burrito too and was unimpressed.  They have more meat selections than your typical Moe's, Chipotle, Qdoba, etc.  They load the burrito up with toppings and they don't charge extra for guac (YES!!).  The hot sauces they have are HOT and I love it!  It sucks this place is uptown or else I would be a regular.\"\n",
            "Round-trip:  this is the best burrito in [UNK] in my [UNK] i have been to [UNK] burrito too and was [UNK] they have more meat [UNK] than your typical [UNK] [UNK] [UNK] etc they [UNK] the burrito up with [UNK] and they dont charge extra for [UNK] yes the hot [UNK] they have are hot and i love it it [UNK] this place is [UNK] or else i would be a regular                                                                                                                                                                                                                                                                                                                                                                                                                                                    \n",
            "\n"
          ],
          "name": "stdout"
        }
      ]
    },
    {
      "cell_type": "code",
      "metadata": {
        "id": "ZglwYbD6FqkO"
      },
      "source": [
        "model = tf.keras.Sequential([\n",
        "    encoder,\n",
        "    tf.keras.layers.Embedding(len(encoder.get_vocabulary()), 64, mask_zero=True),\n",
        "    tf.keras.layers.Bidirectional(tf.keras.layers.LSTM(64,  return_sequences=True)),\n",
        "    tf.keras.layers.Bidirectional(tf.keras.layers.LSTM(32)),\n",
        "    tf.keras.layers.Dense(64, activation='relu'),\n",
        "    tf.keras.layers.Dropout(0.5),\n",
        "    tf.keras.layers.Dense(1)\n",
        "])"
      ],
      "execution_count": null,
      "outputs": []
    },
    {
      "cell_type": "code",
      "metadata": {
        "id": "qU1TA7fzFrvl"
      },
      "source": [
        "model.compile(loss=tf.keras.losses.BinaryCrossentropy(from_logits=True),\n",
        "              optimizer=tf.keras.optimizers.Adam(1e-4),\n",
        "              metrics=['accuracy'])"
      ],
      "execution_count": null,
      "outputs": []
    },
    {
      "cell_type": "code",
      "metadata": {
        "colab": {
          "base_uri": "https://localhost:8080/"
        },
        "id": "eVeV11FOFupP",
        "outputId": "ddf2d91d-4438-46a6-eb43-404e1d880b80"
      },
      "source": [
        " history = model.fit(train_dataset, epochs=10,\n",
        "                    validation_data=test_dataset,\n",
        "                    validation_steps=30)"
      ],
      "execution_count": null,
      "outputs": [
        {
          "output_type": "stream",
          "text": [
            "Epoch 1/10\n",
            "4375/4375 [==============================] - 717s 159ms/step - loss: 0.2658 - accuracy: 0.8788 - val_loss: 0.2170 - val_accuracy: 0.9055\n",
            "Epoch 2/10\n",
            "4375/4375 [==============================] - 685s 156ms/step - loss: 0.2271 - accuracy: 0.9026 - val_loss: 0.2120 - val_accuracy: 0.9107\n",
            "Epoch 3/10\n",
            "4375/4375 [==============================] - 690s 158ms/step - loss: 0.2202 - accuracy: 0.9056 - val_loss: 0.2042 - val_accuracy: 0.9042\n",
            "Epoch 4/10\n",
            "4375/4375 [==============================] - 689s 157ms/step - loss: 0.2088 - accuracy: 0.9106 - val_loss: 0.1862 - val_accuracy: 0.9182\n",
            "Epoch 5/10\n",
            "4375/4375 [==============================] - 687s 157ms/step - loss: 0.1928 - accuracy: 0.9180 - val_loss: 0.1750 - val_accuracy: 0.9258\n",
            "Epoch 6/10\n",
            "4375/4375 [==============================] - 688s 157ms/step - loss: 0.1798 - accuracy: 0.9245 - val_loss: 0.1684 - val_accuracy: 0.9289\n",
            "Epoch 7/10\n",
            "4375/4375 [==============================] - 705s 161ms/step - loss: 0.1704 - accuracy: 0.9285 - val_loss: 0.1647 - val_accuracy: 0.9320\n",
            "Epoch 8/10\n",
            "4375/4375 [==============================] - 692s 158ms/step - loss: 0.1633 - accuracy: 0.9318 - val_loss: 0.1585 - val_accuracy: 0.9349\n",
            "Epoch 9/10\n",
            "4375/4375 [==============================] - 707s 161ms/step - loss: 0.1575 - accuracy: 0.9343 - val_loss: 0.1557 - val_accuracy: 0.9385\n",
            "Epoch 10/10\n",
            "4375/4375 [==============================] - 706s 161ms/step - loss: 0.1531 - accuracy: 0.9366 - val_loss: 0.1521 - val_accuracy: 0.9372\n"
          ],
          "name": "stdout"
        }
      ]
    },
    {
      "cell_type": "code",
      "metadata": {
        "id": "p6mXat-D1hJB"
      },
      "source": [
        ""
      ],
      "execution_count": null,
      "outputs": []
    },
    {
      "cell_type": "code",
      "metadata": {
        "colab": {
          "base_uri": "https://localhost:8080/"
        },
        "id": "Nk6NlA6UF0ge",
        "outputId": "47f91cde-23ae-40f3-d06e-0662b2b833ad"
      },
      "source": [
        "test_loss, test_acc = model.evaluate(test_dataset)\n",
        "\n",
        "print('Test Loss:', test_loss)\n",
        "print('Test Accuracy:', test_acc)"
      ],
      "execution_count": null,
      "outputs": [
        {
          "output_type": "stream",
          "text": [
            "297/297 [==============================] - 19s 64ms/step - loss: 0.1540 - accuracy: 0.9376\n",
            "Test Loss: 0.15396225452423096\n",
            "Test Accuracy: 0.9375526309013367\n"
          ],
          "name": "stdout"
        }
      ]
    },
    {
      "cell_type": "code",
      "metadata": {
        "id": "O6xDVyFDF52E",
        "colab": {
          "base_uri": "https://localhost:8080/"
        },
        "outputId": "3ccedb2c-3f94-40ba-d689-20ae754f5a07"
      },
      "source": [
        "test_loss, test_acc = model.evaluate(test_dataset)\n",
        "\n",
        "print('Test Loss:', test_loss)\n",
        "print('Test Accuracy:', test_acc)"
      ],
      "execution_count": null,
      "outputs": [
        {
          "output_type": "stream",
          "text": [
            "297/297 [==============================] - 19s 64ms/step - loss: 0.1540 - accuracy: 0.9376\n",
            "Test Loss: 0.15396225452423096\n",
            "Test Accuracy: 0.9375526309013367\n"
          ],
          "name": "stdout"
        }
      ]
    },
    {
      "cell_type": "code",
      "metadata": {
        "id": "tut0nEhVF8Gr",
        "colab": {
          "base_uri": "https://localhost:8080/",
          "height": 352
        },
        "outputId": "0f1c6eef-6e25-4312-dbd7-5347b48e6068"
      },
      "source": [
        "plt.figure(figsize=(16, 6))\n",
        "plt.subplot(1, 2, 1)\n",
        "plot_graphs(history, 'accuracy')\n",
        "plt.subplot(1, 2, 2)\n",
        "plot_graphs(history, 'loss')"
      ],
      "execution_count": null,
      "outputs": [
        {
          "output_type": "display_data",
          "data": {
            "image/png": "[encoded data removed]",
            "text/plain": [
              "<Figure size 1152x432 with 2 Axes>"
            ]
          },
          "metadata": {
            "tags": [],
            "needs_background": "light"
          }
        }
      ]
    }
  ]
}