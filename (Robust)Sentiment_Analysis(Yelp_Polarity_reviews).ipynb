{
  "nbformat": 4,
  "nbformat_minor": 0,
  "metadata": {
    "colab": {
      "name": "(Robust)Sentiment Analysis(Yelp-Polarity reviews)",
      "provenance": [],
      "collapsed_sections": [],
      "authorship_tag": "ABX9TyNIv4f3K7R7m+x38tNvQc14",
      "include_colab_link": true
    },
    "kernelspec": {
      "name": "python3",
      "display_name": "Python 3"
    },
    "language_info": {
      "name": "python"
    },
    "accelerator": "GPU"
  },
  "cells": [
    {
      "cell_type": "markdown",
      "metadata": {
        "id": "view-in-github",
        "colab_type": "text"
      },
      "source": [
        "<a href=\"https://colab.research.google.com/github/abhijitpanda890/ML1-Sentiment-analysis-and-emotion-detection-/blob/main/(Robust)Sentiment_Analysis(Yelp_Polarity_reviews).ipynb\" target=\"_parent\"><img src=\"https://colab.research.google.com/assets/colab-badge.svg\" alt=\"Open In Colab\"/></a>"
      ]
    },
    {
      "cell_type": "code",
      "metadata": {
        "id": "j2uPJaVGLOOe"
      },
      "source": [
        "import numpy as np\n",
        "import re\n",
        "import shutil\n",
        "import string\n",
        "import tqdm\n",
        "from tensorflow.keras import Model, preprocessing\n",
        "from tensorflow.keras.layers import Dot, Embedding , Flatten\n",
        "from tensorflow.keras.layers.experimental.preprocessing import TextVectorization\n",
        "import os\n",
        "from tensorflow import keras\n",
        "\n",
        "import tensorflow_datasets as tfds\n",
        "import tensorflow as tf\n",
        "\n",
        "from keras import backend as K\n",
        "\n",
        "\n",
        "tfds.disable_progress_bar()"
      ],
      "execution_count": 15,
      "outputs": []
    },
    {
      "cell_type": "code",
      "metadata": {
        "id": "N1b_wWJXLQUR"
      },
      "source": [
        "import matplotlib.pyplot as plt\n",
        "\n",
        "\n",
        "def plot_graphs(history, metric):\n",
        "  plt.plot(history.history[metric])\n",
        "  plt.plot(history.history['val_'+metric], '')\n",
        "  plt.xlabel(\"Epochs\")\n",
        "  plt.ylabel(metric)\n",
        "  plt.legend([metric, 'val_'+metric])"
      ],
      "execution_count": 16,
      "outputs": []
    },
    {
      "cell_type": "code",
      "metadata": {
        "colab": {
          "base_uri": "https://localhost:8080/"
        },
        "id": "-653gTooLSP-",
        "outputId": "cc21079a-4ae1-4685-fbd7-991bfea0610f"
      },
      "source": [
        "dataset, info = tfds.load('yelp_polarity_reviews', with_info=True,\n",
        "                          as_supervised=True) #download the dataset\n",
        "train_dataset, test_dataset = dataset['train'], dataset['test'] #segregate the train and test datasets\n",
        "\n",
        "train_dataset.element_spec"
      ],
      "execution_count": 17,
      "outputs": [
        {
          "output_type": "execute_result",
          "data": {
            "text/plain": [
              "(TensorSpec(shape=(), dtype=tf.string, name=None),\n",
              " TensorSpec(shape=(), dtype=tf.int64, name=None))"
            ]
          },
          "metadata": {
            "tags": []
          },
          "execution_count": 17
        }
      ]
    },
    {
      "cell_type": "code",
      "metadata": {
        "colab": {
          "base_uri": "https://localhost:8080/"
        },
        "id": "tkTO9EVtLUOi",
        "outputId": "f9c7efa5-8633-4b25-e934-419596a321a2"
      },
      "source": [
        "for example, label in train_dataset.take(1):\n",
        "  print('text: ', example.numpy())\n",
        "  print('label: ', label.numpy())"
      ],
      "execution_count": 18,
      "outputs": [
        {
          "output_type": "stream",
          "text": [
            "text:  b\"The Groovy P. and I ventured to his old stomping grounds for lunch today.  The '5 and Diner' on 16th St and Colter left me with little to ask for.  Before coming here I had a preconceived notion that 5 & Diners were dirty and nasty. Not the case at all.\\\\n\\\\nWe walk in and let the waitress know we want to sit outside (since it's so nice and they had misters).  We get two different servers bringing us stuff (talk about service) and I ask the one waitress for recommendations.  I didn't listen to her, of course, and ordered the Southwestern Burger w/ coleslaw and started with a nice stack of rings.\\\\n\\\\nThe Onion Rings were perfectly cooked.  They looked like they were prepackaged, but they were very crispy and I could actually bite through the onion without pulling the entire thing out (don't you hate that?!!!)\\\\n\\\\nThe Southwestern Burger was order Medium Rare and was cooked accordingly.  Soft, juicy, and pink with a nice crispy browned outer layer that can only be achieved on a well used grill.  The creaminess of the chipotle mayo paired beautifully with the green chiles.  Unfortunately, because I ate too many onion rings, I couldn't finish my burger.  What a shame!\\\\n\\\\nThe Coleslaw was just how I like it.  It's hard to find a really good coleslaw.  I prefer mine to be slightly sweet, not sour.  Too much vinegar in slaw ruins it in my opinion.  This slaw had the perfect marriage of mayo, vinegar, and sugar. Not to mention carrots...\\\\n\\\\nMy experience here was great!  The servers were top notch and kept my water full the entire time and actually chatted with us for a few minutes.\\\\n\\\\nThere is an artist guy named Ross who has been there every day for 5393 days straight. No, not an employee.  He goes there and does his art! He hasn't missed a SINGLE day!!! That's like... 15 years! So if you wanna seem to be 'in the know' ask where Ross is... They'll be able to tell you.\\\\n\\\\nTime for a nap!\"\n",
            "label:  1\n"
          ],
          "name": "stdout"
        }
      ]
    },
    {
      "cell_type": "code",
      "metadata": {
        "id": "fg3X6CErMF7s"
      },
      "source": [
        "BUFFER_SIZE = 10000\n",
        "BATCH_SIZE = 256"
      ],
      "execution_count": 19,
      "outputs": []
    },
    {
      "cell_type": "code",
      "metadata": {
        "id": "InRlz1ohMJC0"
      },
      "source": [
        "train_dataset = train_dataset.shuffle(BUFFER_SIZE).batch(BATCH_SIZE).prefetch(tf.data.AUTOTUNE)\n",
        "test_dataset = test_dataset.batch(BATCH_SIZE).prefetch(tf.data.AUTOTUNE)"
      ],
      "execution_count": 20,
      "outputs": []
    },
    {
      "cell_type": "code",
      "metadata": {
        "colab": {
          "base_uri": "https://localhost:8080/"
        },
        "id": "UYn9b6pAMP1W",
        "outputId": "82c6c084-66af-4ebd-b307-34245d8f7b62"
      },
      "source": [
        "for example, label in train_dataset.take(1):\n",
        "  print('texts: ', example.numpy()[:3])\n",
        "  print()\n",
        "  print('labels: ', label.numpy()[:3])"
      ],
      "execution_count": 21,
      "outputs": [
        {
          "output_type": "stream",
          "text": [
            "texts:  [b\"Food is ok. Drinks look good but haven't tried them. Great live jazz.\"\n",
            " b\"I wouldn't even enjoy this place on a late Friday night:  My friend's chicken n waffles tasted like it had just survived a long, long tornado then been reheated. My dish, the chicken florentine-which I'd so enjoyed mere days prior @ the sahara location(so much better)- tasted more like cheap casino sirloin than chicken and sauce.\\\\n\\\\nService also sucked here... One of those places w/o a host, where you're ignored 10 minutes until a graceful angel of unknown origin addresses you. Definitely avoid this location. There's an amazing similar restaurant nearby called rise n shine(?).\"\n",
            " b'Came here with my sister in law she had a coupon for a 27.99 mani/ spa pedi. The staff was friendly they have a tv and plenty of magazines to look through. I got a french tip mani and spa pedi with a flower. The guy did a great job our nails look gorgeous!']\n",
            "\n",
            "labels:  [1 0 1]\n"
          ],
          "name": "stdout"
        }
      ]
    },
    {
      "cell_type": "code",
      "metadata": {
        "id": "6ZBHanxrMS1M"
      },
      "source": [
        "VOCAB_SIZE = 1000\n",
        "encoder = tf.keras.layers.experimental.preprocessing.TextVectorization(\n",
        "    max_tokens=VOCAB_SIZE)  #preprocessing and vectorization of data\n",
        "encoder.adapt(train_dataset.map(lambda text, label: text))"
      ],
      "execution_count": 22,
      "outputs": []
    },
    {
      "cell_type": "code",
      "metadata": {
        "colab": {
          "base_uri": "https://localhost:8080/"
        },
        "id": "Ys1GJbzEMYhg",
        "outputId": "4db4db41-f3c2-458f-fffb-4c073803e7f6"
      },
      "source": [
        "vocab = np.array(encoder.get_vocabulary())\n",
        "vocab[:20]\n",
        "encoded_example = encoder(example)[:3].numpy() #modified data after text vectorization\n",
        "encoded_example"
      ],
      "execution_count": 23,
      "outputs": [
        {
          "output_type": "execute_result",
          "data": {
            "text/plain": [
              "array([[ 30,  12, 251, ...,   0,   0,   0],\n",
              "       [  4, 416,  74, ...,   0,   0,   0],\n",
              "       [ 98,  45,  17, ...,   0,   0,   0]])"
            ]
          },
          "metadata": {
            "tags": []
          },
          "execution_count": 23
        }
      ]
    },
    {
      "cell_type": "code",
      "metadata": {
        "colab": {
          "base_uri": "https://localhost:8080/"
        },
        "id": "mO-Ip6kaMbFb",
        "outputId": "5247b96f-3f26-4d67-cb22-ea9cc8aa7e58"
      },
      "source": [
        "for n in range(3):\n",
        "  print(\"Original: \", example[n].numpy())\n",
        "  print(\"Round-trip: \", \" \".join(vocab[encoded_example[n]]))\n",
        "  print()"
      ],
      "execution_count": 24,
      "outputs": [
        {
          "output_type": "stream",
          "text": [
            "Original:  b\"Food is ok. Drinks look good but haven't tried them. Great live jazz.\"\n",
            "Round-trip:  food is ok drinks look good but havent tried them great live [UNK]                                                                                                                                                                                                                                                                                                                                                                                                                                                                                                                                                                                                                                                                                                                                                                                                                                                                                                                      \n",
            "\n",
            "Original:  b\"I wouldn't even enjoy this place on a late Friday night:  My friend's chicken n waffles tasted like it had just survived a long, long tornado then been reheated. My dish, the chicken florentine-which I'd so enjoyed mere days prior @ the sahara location(so much better)- tasted more like cheap casino sirloin than chicken and sauce.\\\\n\\\\nService also sucked here... One of those places w/o a host, where you're ignored 10 minutes until a graceful angel of unknown origin addresses you. Definitely avoid this location. There's an amazing similar restaurant nearby called rise n shine(?).\"\n",
            "Round-trip:  i wouldnt even enjoy this place on a late friday night my friends chicken n [UNK] tasted like it had just [UNK] a long long [UNK] then been [UNK] my dish the chicken [UNK] id so enjoyed [UNK] days [UNK] the [UNK] [UNK] much better tasted more like cheap casino [UNK] than chicken and [UNK] also [UNK] here one of those places [UNK] a [UNK] where youre [UNK] 10 minutes until a [UNK] [UNK] of [UNK] [UNK] [UNK] you definitely avoid this location theres an amazing [UNK] restaurant [UNK] called [UNK] n [UNK]                                                                                                                                                                                                                                                                                                                                                                                                                                                                                                                                                                                                                                                                                                                                                                                                                                      \n",
            "\n",
            "Original:  b'Came here with my sister in law she had a coupon for a 27.99 mani/ spa pedi. The staff was friendly they have a tv and plenty of magazines to look through. I got a french tip mani and spa pedi with a flower. The guy did a great job our nails look gorgeous!'\n",
            "Round-trip:  came here with my [UNK] in [UNK] she had a [UNK] for a [UNK] [UNK] [UNK] [UNK] the staff was friendly they have a tv and plenty of [UNK] to look through i got a french tip [UNK] and [UNK] [UNK] with a [UNK] the guy did a great job our nails look [UNK]                                                                                                                                                                                                                                                                                                                                                                                                                                                                                                                                                                                                                                                                                                                                                                                                                                                                             \n",
            "\n"
          ],
          "name": "stdout"
        }
      ]
    },
    {
      "cell_type": "code",
      "metadata": {
        "id": "OyO2dDE1Mb2E"
      },
      "source": [
        "from tensorflow.keras import layers, callbacks\n",
        "\n",
        "early_stopping = callbacks.EarlyStopping(\n",
        "    min_delta=0.001, # minimium amount of change to count as an improvement\n",
        "    patience=5, # how many epochs to wait before stopping\n",
        "    restore_best_weights=True,\n",
        ")\n",
        "\n",
        "model = tf.keras.Sequential([\n",
        "    encoder,\n",
        "    tf.keras.layers.Embedding(len(encoder.get_vocabulary()), 64, mask_zero=True), #parameters:size of vocabulary, output-dimensions, mask(explained in README)\n",
        "    tf.keras.layers.Bidirectional(tf.keras.layers.LSTM(64,  return_sequences=True)),#RNN Layer with 64 LSTM units\n",
        "    tf.keras.layers.Bidirectional(tf.keras.layers.LSTM(32)),#RNN Layer with 32 LSTM units\n",
        "    tf.keras.layers.Dropout(0.5),\n",
        "    tf.keras.layers.Dense(64, activation='relu'),\n",
        "    tf.keras.layers.Dropout(0.5),\n",
        "    tf.keras.layers.Dense(1)\n",
        "])"
      ],
      "execution_count": 25,
      "outputs": []
    },
    {
      "cell_type": "code",
      "metadata": {
        "id": "EMkCzdIqMela"
      },
      "source": [
        "def recall_m(y_true, y_pred):\n",
        "    true_positives = K.sum(K.round(K.clip(y_true * y_pred, 0, 1)))\n",
        "    possible_positives = K.sum(K.round(K.clip(y_true, 0, 1)))\n",
        "    recall = true_positives / (possible_positives + K.epsilon())\n",
        "    return recall\n",
        "\n",
        "def precision_m(y_true, y_pred):\n",
        "    true_positives = K.sum(K.round(K.clip(y_true * y_pred, 0, 1)))\n",
        "    predicted_positives = K.sum(K.round(K.clip(y_pred, 0, 1)))\n",
        "    precision = true_positives / (predicted_positives + K.epsilon())\n",
        "    return precision\n",
        "\n",
        "def f1_m(y_true, y_pred):\n",
        "    precision = precision_m(y_true, y_pred)\n",
        "    recall = recall_m(y_true, y_pred)\n",
        "    return 2*((precision*recall)/(precision+recall+K.epsilon()))"
      ],
      "execution_count": 26,
      "outputs": []
    },
    {
      "cell_type": "code",
      "metadata": {
        "id": "Dvd5L3YXNFA5"
      },
      "source": [
        "model.compile(loss=tf.keras.losses.BinaryCrossentropy(from_logits=True),# using the BinaryCrossentropy as loss function for a binary classifier\n",
        "              optimizer=tf.keras.optimizers.Adam(1e-4),#adam as optimizer\n",
        "              metrics=['accuracy', f1_m,precision_m, recall_m])"
      ],
      "execution_count": 27,
      "outputs": []
    },
    {
      "cell_type": "code",
      "metadata": {
        "colab": {
          "base_uri": "https://localhost:8080/"
        },
        "id": "qP8f3Cd7VUwG",
        "outputId": "3902d350-217d-4f78-e130-454a52979969"
      },
      "source": [
        " history = model.fit(train_dataset, epochs=10,\n",
        "                    validation_data=test_dataset,\n",
        "                    validation_steps=30,\n",
        "                     callbacks=[early_stopping])"
      ],
      "execution_count": 28,
      "outputs": [
        {
          "output_type": "stream",
          "text": [
            "Epoch 1/10\n",
            "2188/2188 [==============================] - 567s 249ms/step - loss: 0.2942 - accuracy: 0.8582 - f1_m: 0.8142 - precision_m: 0.8603 - recall_m: 0.7785 - val_loss: 0.2270 - val_accuracy: 0.8987 - val_f1_m: 0.8964 - val_precision_m: 0.9325 - val_recall_m: 0.8636\n",
            "Epoch 2/10\n",
            "2188/2188 [==============================] - 529s 242ms/step - loss: 0.2325 - accuracy: 0.9014 - f1_m: 0.8974 - precision_m: 0.9326 - recall_m: 0.8658 - val_loss: 0.2223 - val_accuracy: 0.9007 - val_f1_m: 0.8985 - val_precision_m: 0.9344 - val_recall_m: 0.8660\n",
            "Epoch 3/10\n",
            "2188/2188 [==============================] - 535s 244ms/step - loss: 0.2268 - accuracy: 0.9035 - f1_m: 0.8996 - precision_m: 0.9334 - recall_m: 0.8692 - val_loss: 0.2275 - val_accuracy: 0.8931 - val_f1_m: 0.8873 - val_precision_m: 0.9537 - val_recall_m: 0.8303\n",
            "Epoch 4/10\n",
            "2188/2188 [==============================] - 531s 242ms/step - loss: 0.2210 - accuracy: 0.9057 - f1_m: 0.9021 - precision_m: 0.9346 - recall_m: 0.8728 - val_loss: 0.2165 - val_accuracy: 0.9051 - val_f1_m: 0.9028 - val_precision_m: 0.9414 - val_recall_m: 0.8678\n",
            "Epoch 5/10\n",
            "2188/2188 [==============================] - 519s 237ms/step - loss: 0.2151 - accuracy: 0.9086 - f1_m: 0.9051 - precision_m: 0.9366 - recall_m: 0.8766 - val_loss: 0.2157 - val_accuracy: 0.9115 - val_f1_m: 0.9124 - val_precision_m: 0.9180 - val_recall_m: 0.9074\n",
            "Epoch 6/10\n",
            "2188/2188 [==============================] - 525s 240ms/step - loss: 0.2082 - accuracy: 0.9120 - f1_m: 0.9089 - precision_m: 0.9385 - recall_m: 0.8819 - val_loss: 0.2018 - val_accuracy: 0.9116 - val_f1_m: 0.9097 - val_precision_m: 0.9440 - val_recall_m: 0.8786\n",
            "Epoch 7/10\n",
            "2188/2188 [==============================] - 523s 239ms/step - loss: 0.2000 - accuracy: 0.9157 - f1_m: 0.9128 - precision_m: 0.9408 - recall_m: 0.8873 - val_loss: 0.1977 - val_accuracy: 0.9161 - val_f1_m: 0.9160 - val_precision_m: 0.9322 - val_recall_m: 0.9009\n",
            "Epoch 8/10\n",
            "2188/2188 [==============================] - 528s 241ms/step - loss: 0.1914 - accuracy: 0.9199 - f1_m: 0.9174 - precision_m: 0.9436 - recall_m: 0.8935 - val_loss: 0.1900 - val_accuracy: 0.9215 - val_f1_m: 0.9215 - val_precision_m: 0.9353 - val_recall_m: 0.9088\n",
            "Epoch 9/10\n",
            "2188/2188 [==============================] - 527s 241ms/step - loss: 0.1838 - accuracy: 0.9234 - f1_m: 0.9211 - precision_m: 0.9456 - recall_m: 0.8987 - val_loss: 0.1817 - val_accuracy: 0.9219 - val_f1_m: 0.9208 - val_precision_m: 0.9474 - val_recall_m: 0.8965\n",
            "Epoch 10/10\n",
            "2188/2188 [==============================] - 515s 235ms/step - loss: 0.1766 - accuracy: 0.9269 - f1_m: 0.9248 - precision_m: 0.9482 - recall_m: 0.9033 - val_loss: 0.1791 - val_accuracy: 0.9264 - val_f1_m: 0.9268 - val_precision_m: 0.9397 - val_recall_m: 0.9147\n"
          ],
          "name": "stdout"
        }
      ]
    },
    {
      "cell_type": "code",
      "metadata": {
        "colab": {
          "base_uri": "https://localhost:8080/"
        },
        "id": "0W5iFhMaNaE7",
        "outputId": "bfa8cb37-e0a5-428e-c8a8-1735e0bf8b09"
      },
      "source": [
        "test_loss, test_acc, f1_score, precision, recall = model.evaluate(test_dataset)\n",
        "\n",
        "print('Test Loss:', test_loss)\n",
        "print('Test Accuracy:', test_acc)\n",
        "print('Test Precision:', precision)\n",
        "print('Test Recall:', recall)\n",
        "print('Test F1 Score:', f1_score)\n",
        "\n",
        "\n"
      ],
      "execution_count": 29,
      "outputs": [
        {
          "output_type": "stream",
          "text": [
            "149/149 [==============================] - 13s 88ms/step - loss: 0.1710 - accuracy: 0.9304 - f1_m: 0.9293 - precision_m: 0.9406 - recall_m: 0.9188\n",
            "Test Loss: 0.17096687853336334\n",
            "Test Accuracy: 0.93039470911026\n",
            "Test Precision: 0.9406332969665527\n",
            "Test Recall: 0.9187859892845154\n",
            "Test F1 Score: 0.929294764995575\n"
          ],
          "name": "stdout"
        }
      ]
    },
    {
      "cell_type": "code",
      "metadata": {
        "id": "VKctaKkEOuOV",
        "colab": {
          "base_uri": "https://localhost:8080/",
          "height": 519
        },
        "outputId": "3696ab6c-f86a-4936-e257-7b0dba85811b"
      },
      "source": [
        "plt.figure(figsize=(16, 8))\n",
        "plt.subplot(1, 2, 1)\n",
        "plot_graphs(history, 'accuracy')\n",
        "plt.ylim(None, 1)\n",
        "plt.subplot(1, 2, 2)\n",
        "plot_graphs(history, 'loss')\n",
        "plt.ylim(0, None)"
      ],
      "execution_count": 30,
      "outputs": [
        {
          "output_type": "execute_result",
          "data": {
            "text/plain": [
              "(0.0, 0.3000441573560238)"
            ]
          },
          "metadata": {
            "tags": []
          },
          "execution_count": 30
        },
        {
          "output_type": "display_data",
          "data": {
            "image/png": "[encoded data removed]",
            "text/plain": [
              "<Figure size 1152x576 with 2 Axes>"
            ]
          },
          "metadata": {
            "tags": [],
            "needs_background": "light"
          }
        }
      ]
    },
    {
      "cell_type": "code",
      "metadata": {
        "colab": {
          "base_uri": "https://localhost:8080/"
        },
        "id": "_E2WbG0FQJgv",
        "outputId": "04119732-a0fd-480b-b296-b52f4ef4c39c"
      },
      "source": [
        "\n",
        "!mkdir -p saved_model\n",
        "model.save('saved_model/SA_model')"
      ],
      "execution_count": 31,
      "outputs": [
        {
          "output_type": "stream",
          "text": [
            "WARNING:absl:Found untraced functions such as lstm_cell_7_layer_call_fn, lstm_cell_7_layer_call_and_return_conditional_losses, lstm_cell_8_layer_call_fn, lstm_cell_8_layer_call_and_return_conditional_losses, lstm_cell_10_layer_call_fn while saving (showing 5 of 20). These functions will not be directly callable after loading.\n"
          ],
          "name": "stderr"
        },
        {
          "output_type": "stream",
          "text": [
            "INFO:tensorflow:Assets written to: saved_model/SA_model/assets\n"
          ],
          "name": "stdout"
        },
        {
          "output_type": "stream",
          "text": [
            "INFO:tensorflow:Assets written to: saved_model/SA_model/assets\n"
          ],
          "name": "stderr"
        }
      ]
    }
  ]
}