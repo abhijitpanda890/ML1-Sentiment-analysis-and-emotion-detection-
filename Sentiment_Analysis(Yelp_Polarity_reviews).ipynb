{
  "nbformat": 4,
  "nbformat_minor": 0,
  "metadata": {
    "colab": {
      "name": "Sentiment Analysis(Yelp-Polarity reviews).ipynb",
      "provenance": [],
      "collapsed_sections": [],
      "authorship_tag": "ABX9TyOpHf2v4rPShv+nJHAtKXOl",
      "include_colab_link": true
    },
    "kernelspec": {
      "name": "python3",
      "display_name": "Python 3"
    },
    "language_info": {
      "name": "python"
    },
    "accelerator": "GPU"
  },
  "cells": [
    {
      "cell_type": "markdown",
      "metadata": {
        "id": "view-in-github",
        "colab_type": "text"
      },
      "source": [
        "<a href=\"https://colab.research.google.com/github/abhijitpanda890/ML1-Sentiment-analysis-and-emotion-detection-/blob/main/Sentiment_Analysis(Yelp_Polarity_reviews).ipynb\" target=\"_parent\"><img src=\"https://colab.research.google.com/assets/colab-badge.svg\" alt=\"Open In Colab\"/></a>"
      ]
    },
    {
      "cell_type": "code",
      "metadata": {
        "id": "j2uPJaVGLOOe"
      },
      "source": [
        "import numpy as np\n",
        "import re\n",
        "import shutil\n",
        "import string\n",
        "import tqdm\n",
        "from tensorflow.keras import Model, preprocessing\n",
        "from tensorflow.keras.layers import Dot, Embedding , Flatten\n",
        "from tensorflow.keras.layers.experimental.preprocessing import TextVectorization\n",
        "import os\n",
        "\n",
        "import tensorflow_datasets as tfds\n",
        "import tensorflow as tf\n",
        "\n",
        "from keras import backend as K\n",
        "\n",
        "\n",
        "tfds.disable_progress_bar()"
      ],
      "execution_count": null,
      "outputs": []
    },
    {
      "cell_type": "code",
      "metadata": {
        "id": "N1b_wWJXLQUR"
      },
      "source": [
        "import matplotlib.pyplot as plt\n",
        "\n",
        "\n",
        "def plot_graphs(history, metric):\n",
        "  plt.plot(history.history[metric])\n",
        "  plt.plot(history.history['val_'+metric], '')\n",
        "  plt.xlabel(\"Epochs\")\n",
        "  plt.ylabel(metric)\n",
        "  plt.legend([metric, 'val_'+metric])"
      ],
      "execution_count": null,
      "outputs": []
    },
    {
      "cell_type": "code",
      "metadata": {
        "colab": {
          "base_uri": "https://localhost:8080/"
        },
        "id": "-653gTooLSP-",
        "outputId": "73333a1c-ecdc-4f4b-a88d-72b1e637e987"
      },
      "source": [
        "dataset, info = tfds.load('yelp_polarity_reviews', with_info=True,\n",
        "                          as_supervised=True) #download the dataset\n",
        "train_dataset, test_dataset = dataset['train'], dataset['test'] #segregate the train and test datasets\n",
        "\n",
        "train_dataset.element_spec"
      ],
      "execution_count": null,
      "outputs": [
        {
          "output_type": "execute_result",
          "data": {
            "text/plain": [
              "(TensorSpec(shape=(), dtype=tf.string, name=None),\n",
              " TensorSpec(shape=(), dtype=tf.int64, name=None))"
            ]
          },
          "metadata": {
            "tags": []
          },
          "execution_count": 49
        }
      ]
    },
    {
      "cell_type": "code",
      "metadata": {
        "colab": {
          "base_uri": "https://localhost:8080/"
        },
        "id": "tkTO9EVtLUOi",
        "outputId": "c0ca410e-7d9f-498f-a825-582eaf81cccf"
      },
      "source": [
        "for example, label in train_dataset.take(1):\n",
        "  print('text: ', example.numpy())\n",
        "  print('label: ', label.numpy())"
      ],
      "execution_count": null,
      "outputs": [
        {
          "output_type": "stream",
          "text": [
            "text:  b\"The Groovy P. and I ventured to his old stomping grounds for lunch today.  The '5 and Diner' on 16th St and Colter left me with little to ask for.  Before coming here I had a preconceived notion that 5 & Diners were dirty and nasty. Not the case at all.\\\\n\\\\nWe walk in and let the waitress know we want to sit outside (since it's so nice and they had misters).  We get two different servers bringing us stuff (talk about service) and I ask the one waitress for recommendations.  I didn't listen to her, of course, and ordered the Southwestern Burger w/ coleslaw and started with a nice stack of rings.\\\\n\\\\nThe Onion Rings were perfectly cooked.  They looked like they were prepackaged, but they were very crispy and I could actually bite through the onion without pulling the entire thing out (don't you hate that?!!!)\\\\n\\\\nThe Southwestern Burger was order Medium Rare and was cooked accordingly.  Soft, juicy, and pink with a nice crispy browned outer layer that can only be achieved on a well used grill.  The creaminess of the chipotle mayo paired beautifully with the green chiles.  Unfortunately, because I ate too many onion rings, I couldn't finish my burger.  What a shame!\\\\n\\\\nThe Coleslaw was just how I like it.  It's hard to find a really good coleslaw.  I prefer mine to be slightly sweet, not sour.  Too much vinegar in slaw ruins it in my opinion.  This slaw had the perfect marriage of mayo, vinegar, and sugar. Not to mention carrots...\\\\n\\\\nMy experience here was great!  The servers were top notch and kept my water full the entire time and actually chatted with us for a few minutes.\\\\n\\\\nThere is an artist guy named Ross who has been there every day for 5393 days straight. No, not an employee.  He goes there and does his art! He hasn't missed a SINGLE day!!! That's like... 15 years! So if you wanna seem to be 'in the know' ask where Ross is... They'll be able to tell you.\\\\n\\\\nTime for a nap!\"\n",
            "label:  1\n"
          ],
          "name": "stdout"
        }
      ]
    },
    {
      "cell_type": "code",
      "metadata": {
        "id": "fg3X6CErMF7s"
      },
      "source": [
        "BUFFER_SIZE = 10000\n",
        "BATCH_SIZE = 256"
      ],
      "execution_count": null,
      "outputs": []
    },
    {
      "cell_type": "code",
      "metadata": {
        "id": "InRlz1ohMJC0"
      },
      "source": [
        "train_dataset = train_dataset.shuffle(BUFFER_SIZE).batch(BATCH_SIZE).prefetch(tf.data.AUTOTUNE)\n",
        "test_dataset = test_dataset.batch(BATCH_SIZE).prefetch(tf.data.AUTOTUNE)"
      ],
      "execution_count": null,
      "outputs": []
    },
    {
      "cell_type": "code",
      "metadata": {
        "colab": {
          "base_uri": "https://localhost:8080/"
        },
        "id": "UYn9b6pAMP1W",
        "outputId": "7a44418a-2401-4c35-edab-689fb93c9b79"
      },
      "source": [
        "for example, label in train_dataset.take(1):\n",
        "  print('texts: ', example.numpy()[:3])\n",
        "  print()\n",
        "  print('labels: ', label.numpy()[:3])"
      ],
      "execution_count": null,
      "outputs": [
        {
          "output_type": "stream",
          "text": [
            "texts:  [b\"This isn't a review, it's a love story.\\\\n\\\\nFour Peaks and I have had the most amazing relationship over the past four years. We were first introduced back in 2007. It was the summer before my senior year of college and I was barely 21. It was not love at first sight. Oh, no no. I was new to the world of beer and it wasn't my beverage of choice (though a Peach Ale on a hot night was always delicious).\\\\n\\\\nBut this isn't a place you go to solely for the beer.  Good food was nothing new to me, and this is where Four Peaks really shines. My friends would get together and drink, and I would eat. And eat. And eat. Hummus, pizza, bruchetta (you have to get the shrimp and goat cheese!), burgers, fries. My heart flutters for their Salmon BLT.\\\\n\\\\nAnd then I got into beer. This is when Four Peaks and I began our unstoppable love. I'm truly lucky to live close enough to stop by regularly, but far enough away to not become a fat alcoholic. All of the beers are perfect in their own way, my choice always depends on my mood and what I'm eating. And don't miss the cask conditioned selections! Always interesting.\\\\n\\\\nThe atmosphere completes the trifecta of awesomeness, with the indoor/outdoor feel and giant brewery equipment looming in the background. There is something for everyone at this perfect little local gem, and to this day I haven't found anyone who disagrees. I'm beginning to think Four Peaks isn't really a monogamous lover...\"\n",
            " b\"Go at off peak hours or else be prepared to wait...and wait...and sometimes give up waiting and go somewhere else. But if you're lucky enough to snag one of the 15 seats at the counter, you won't be disappointed. \\\\n\\\\nPan roast is the most popular item, it's rich and creamy base of either seafood or sausage or a combo of all. I would recommend just seafood or add sausage, the have the Palace Pan Roast which comes with chicken but that adds nothing to the dish. They do give you very large meaty shrimps if you order the ones that comes with it. The side of rice they give you is the perfect vessal to soak up all the yummy goodness. \\\\n\\\\nThe oysters are reasonably priced, very meaty. The horseradish sauce has a nice kick.\\\\n\\\\nChowders are also very good, tons of seafood and clams.\\\\n\\\\nI like the ciopino too, again tons of seafood and large juicy shrimp.\\\\n\\\\nThis is 4 not 5 stars because depending on whose cooking, sometimes the dishes aren't as good. My last visit here I think they were switching shifts and the new guy started our 5 dishes, then ran around looking for something, left our food to cook/burn on the cookers and left and the other guy had to quickly finish it off. They tasted OK but I know it could have been better if our chef had cooked our food correctly. And for the ladies, make sure you bring a jacket because the location is right under an air vent and it's always freezing at the bar.\"\n",
            " b\"The food gets 4 stars, but they lose 2 stars for LOUSY service.\\\\n\\\\nThe pizza is pretty good NY style pizza.  The crust is cooked just the right amount, just a little crispy on the bottom and the perfect consistency to eat folded.  Because we are a family of five we tend to buy a whole pizza rather than by the slice.  \\\\n\\\\nWings were also good and very saucy.  We got the mediums, and they were just the right amount of spicy for everyone to enjoy.  They had a deal for a large pizza and 25 wings for $22.  Watch out, though, because the drinks are $2.50 each, so with a family of five we paid over $12 just for the drinks!\\\\n\\\\nDining room and restrooms were both clean.\\\\n\\\\nUnfortunately, what detracts from the Ray's Pizza experience is the service.  The service SUCKS.  We were told we would get the wings first, and then our pizza would come out.  They yell out to you from the counter when your order is ready, but you cannot understand what they are yelling out.  I kept checking to see if our wings were ready every time someone yelled.  After about 15 minutes, I went to the counter to ask about the wings.  They told me they take a while to cook.  (Huh?)  Finally, they called out our pizza order; still no wings.  I again asked about the wings and the man behind the counter said they would bring them to us.  \\\\n\\\\nWe started eating the pizza and when the wings finally came they were COLD, like they came out of the refrigerator.  Even the plate they were on was cold.  I hate sending food back, but I carried them up to the counter and gave them back to be heated up.  The girl who was at the counter look perplexed when I told her the wings were cold, like she did not know what to do.  The man working the pizza ovens, though, took them and said he would heat them up and bring them out to us.  10 minutes later, we were finally eating our wings.\\\\n\\\\nThe service problem is not so much in the screw-up.  I am a forgiving person and mistakes happen.  The service problem is in the attitude  of the people who work there.  Just a rude and abrupt demeanor.  You are not a guest in there restaurant, they are doing you a favor.  \\\\n\\\\nIt's too bad that bad service detracts so much from good food.\"]\n",
            "\n",
            "labels:  [1 1 0]\n"
          ],
          "name": "stdout"
        }
      ]
    },
    {
      "cell_type": "code",
      "metadata": {
        "id": "6ZBHanxrMS1M"
      },
      "source": [
        "VOCAB_SIZE = 1000\n",
        "encoder = tf.keras.layers.experimental.preprocessing.TextVectorization(\n",
        "    max_tokens=VOCAB_SIZE)  #preprocessing and vectorization of data\n",
        "encoder.adapt(train_dataset.map(lambda text, label: text))"
      ],
      "execution_count": null,
      "outputs": []
    },
    {
      "cell_type": "code",
      "metadata": {
        "colab": {
          "base_uri": "https://localhost:8080/"
        },
        "id": "Ys1GJbzEMYhg",
        "outputId": "f79c140b-6c73-42f1-860a-40734e9decb2"
      },
      "source": [
        "vocab = np.array(encoder.get_vocabulary())\n",
        "vocab[:20]\n",
        "encoded_example = encoder(example)[:3].numpy() #modified data after text vectorization\n",
        "encoded_example"
      ],
      "execution_count": null,
      "outputs": [
        {
          "output_type": "execute_result",
          "data": {
            "text/plain": [
              "array([[ 16, 403,   6, ...,   0,   0,   0],\n",
              "       [ 59,  25, 110, ...,   0,   0,   0],\n",
              "       [  2,  30, 599, ...,   0,   0,   0]])"
            ]
          },
          "metadata": {
            "tags": []
          },
          "execution_count": 55
        }
      ]
    },
    {
      "cell_type": "code",
      "metadata": {
        "colab": {
          "base_uri": "https://localhost:8080/"
        },
        "id": "mO-Ip6kaMbFb",
        "outputId": "d44fc389-c179-4f8c-f740-b6fdc56e1c0b"
      },
      "source": [
        "for n in range(3):\n",
        "  print(\"Original: \", example[n].numpy())\n",
        "  print(\"Round-trip: \", \" \".join(vocab[encoded_example[n]]))\n",
        "  print()"
      ],
      "execution_count": null,
      "outputs": [
        {
          "output_type": "stream",
          "text": [
            "Original:  b\"This isn't a review, it's a love story.\\\\n\\\\nFour Peaks and I have had the most amazing relationship over the past four years. We were first introduced back in 2007. It was the summer before my senior year of college and I was barely 21. It was not love at first sight. Oh, no no. I was new to the world of beer and it wasn't my beverage of choice (though a Peach Ale on a hot night was always delicious).\\\\n\\\\nBut this isn't a place you go to solely for the beer.  Good food was nothing new to me, and this is where Four Peaks really shines. My friends would get together and drink, and I would eat. And eat. And eat. Hummus, pizza, bruchetta (you have to get the shrimp and goat cheese!), burgers, fries. My heart flutters for their Salmon BLT.\\\\n\\\\nAnd then I got into beer. This is when Four Peaks and I began our unstoppable love. I'm truly lucky to live close enough to stop by regularly, but far enough away to not become a fat alcoholic. All of the beers are perfect in their own way, my choice always depends on my mood and what I'm eating. And don't miss the cask conditioned selections! Always interesting.\\\\n\\\\nThe atmosphere completes the trifecta of awesomeness, with the indoor/outdoor feel and giant brewery equipment looming in the background. There is something for everyone at this perfect little local gem, and to this day I haven't found anyone who disagrees. I'm beginning to think Four Peaks isn't really a monogamous lover...\"\n",
            "Round-trip:  this isnt a review its a love [UNK] [UNK] and i have had the most amazing [UNK] over the past four years we were first [UNK] back in [UNK] it was the [UNK] before my [UNK] year of [UNK] and i was barely [UNK] it was not love at first [UNK] oh no no i was new to the world of beer and it wasnt my [UNK] of choice though a [UNK] [UNK] on a hot night was always [UNK] this isnt a place you go to [UNK] for the beer good food was nothing new to me and this is where four [UNK] really [UNK] my friends would get together and drink and i would eat and eat and eat [UNK] pizza [UNK] you have to get the shrimp and [UNK] cheese burgers fries my [UNK] [UNK] for their salmon [UNK] then i got into beer this is when four [UNK] and i [UNK] our [UNK] love im truly [UNK] to live close enough to stop by [UNK] but far enough away to not [UNK] a [UNK] [UNK] all of the beers are perfect in their own way my choice always [UNK] on my [UNK] and what im eating and dont miss the [UNK] [UNK] [UNK] always [UNK] atmosphere [UNK] the [UNK] of [UNK] with the [UNK] feel and [UNK] [UNK] [UNK] [UNK] in the [UNK] there is something for everyone at this perfect little local [UNK] and to this day i havent found anyone who [UNK] im [UNK] to think four [UNK] isnt really a [UNK] [UNK]                                                                                                                                                                                                                                                                                                                                                                                                                                                                                                                                                                                                                                                                \n",
            "\n",
            "Original:  b\"Go at off peak hours or else be prepared to wait...and wait...and sometimes give up waiting and go somewhere else. But if you're lucky enough to snag one of the 15 seats at the counter, you won't be disappointed. \\\\n\\\\nPan roast is the most popular item, it's rich and creamy base of either seafood or sausage or a combo of all. I would recommend just seafood or add sausage, the have the Palace Pan Roast which comes with chicken but that adds nothing to the dish. They do give you very large meaty shrimps if you order the ones that comes with it. The side of rice they give you is the perfect vessal to soak up all the yummy goodness. \\\\n\\\\nThe oysters are reasonably priced, very meaty. The horseradish sauce has a nice kick.\\\\n\\\\nChowders are also very good, tons of seafood and clams.\\\\n\\\\nI like the ciopino too, again tons of seafood and large juicy shrimp.\\\\n\\\\nThis is 4 not 5 stars because depending on whose cooking, sometimes the dishes aren't as good. My last visit here I think they were switching shifts and the new guy started our 5 dishes, then ran around looking for something, left our food to cook/burn on the cookers and left and the other guy had to quickly finish it off. They tasted OK but I know it could have been better if our chef had cooked our food correctly. And for the ladies, make sure you bring a jacket because the location is right under an air vent and it's always freezing at the bar.\"\n",
            "Round-trip:  go at off [UNK] hours or else be prepared to [UNK] [UNK] sometimes give up waiting and go somewhere else but if youre [UNK] enough to [UNK] one of the 15 seats at the counter you wont be disappointed [UNK] [UNK] is the most [UNK] item its [UNK] and [UNK] [UNK] of either seafood or sausage or a [UNK] of all i would recommend just seafood or add sausage the have the [UNK] [UNK] [UNK] which comes with chicken but that [UNK] nothing to the dish they do give you very large [UNK] [UNK] if you order the ones that comes with it the side of rice they give you is the perfect [UNK] to [UNK] up all the yummy [UNK] nnthe [UNK] are [UNK] priced very [UNK] the [UNK] sauce has a nice [UNK] are also very good [UNK] of seafood and [UNK] like the [UNK] too again [UNK] of seafood and large [UNK] [UNK] is 4 not 5 stars because [UNK] on [UNK] [UNK] sometimes the dishes arent as good my last visit here i think they were [UNK] [UNK] and the new guy started our 5 dishes then [UNK] around looking for something left our food to [UNK] on the [UNK] and left and the other guy had to quickly finish it off they tasted ok but i know it could have been better if our chef had cooked our food [UNK] and for the [UNK] make sure you bring a [UNK] because the location is right under an [UNK] [UNK] and its always [UNK] at the bar                                                                                                                                                                                                                                                                                                                                                                                                                                                                                                                                                                                                                                                              \n",
            "\n",
            "Original:  b\"The food gets 4 stars, but they lose 2 stars for LOUSY service.\\\\n\\\\nThe pizza is pretty good NY style pizza.  The crust is cooked just the right amount, just a little crispy on the bottom and the perfect consistency to eat folded.  Because we are a family of five we tend to buy a whole pizza rather than by the slice.  \\\\n\\\\nWings were also good and very saucy.  We got the mediums, and they were just the right amount of spicy for everyone to enjoy.  They had a deal for a large pizza and 25 wings for $22.  Watch out, though, because the drinks are $2.50 each, so with a family of five we paid over $12 just for the drinks!\\\\n\\\\nDining room and restrooms were both clean.\\\\n\\\\nUnfortunately, what detracts from the Ray's Pizza experience is the service.  The service SUCKS.  We were told we would get the wings first, and then our pizza would come out.  They yell out to you from the counter when your order is ready, but you cannot understand what they are yelling out.  I kept checking to see if our wings were ready every time someone yelled.  After about 15 minutes, I went to the counter to ask about the wings.  They told me they take a while to cook.  (Huh?)  Finally, they called out our pizza order; still no wings.  I again asked about the wings and the man behind the counter said they would bring them to us.  \\\\n\\\\nWe started eating the pizza and when the wings finally came they were COLD, like they came out of the refrigerator.  Even the plate they were on was cold.  I hate sending food back, but I carried them up to the counter and gave them back to be heated up.  The girl who was at the counter look perplexed when I told her the wings were cold, like she did not know what to do.  The man working the pizza ovens, though, took them and said he would heat them up and bring them out to us.  10 minutes later, we were finally eating our wings.\\\\n\\\\nThe service problem is not so much in the screw-up.  I am a forgiving person and mistakes happen.  The service problem is in the attitude  of the people who work there.  Just a rude and abrupt demeanor.  You are not a guest in there restaurant, they are doing you a favor.  \\\\n\\\\nIt's too bad that bad service detracts so much from good food.\"\n",
            "Round-trip:  the food gets 4 stars but they [UNK] 2 stars for [UNK] [UNK] pizza is pretty good [UNK] style pizza the crust is cooked just the right amount just a little crispy on the [UNK] and the perfect [UNK] to eat [UNK] because we are a family of five we [UNK] to buy a whole pizza rather than by the [UNK] [UNK] were also good and very [UNK] we got the [UNK] and they were just the right amount of spicy for everyone to enjoy they had a deal for a large pizza and 25 wings for [UNK] watch out though because the drinks are [UNK] each so with a family of five we paid over 12 just for the [UNK] room and [UNK] were both [UNK] what [UNK] from the [UNK] pizza experience is the service the service [UNK] we were told we would get the wings first and then our pizza would come out they [UNK] out to you from the counter when your order is ready but you cannot understand what they are [UNK] out i kept [UNK] to see if our wings were ready every time someone [UNK] after about 15 minutes i went to the counter to ask about the wings they told me they take a while to cook [UNK] finally they called out our pizza order still no wings i again asked about the wings and the man behind the counter said they would bring them to us nnwe started eating the pizza and when the wings finally came they were cold like they came out of the [UNK] even the plate they were on was cold i hate [UNK] food back but i [UNK] them up to the counter and gave them back to be [UNK] up the girl who was at the counter look [UNK] when i told her the wings were cold like she did not know what to do the man working the pizza [UNK] though took them and said he would [UNK] them up and bring them out to us 10 minutes later we were finally eating our [UNK] service problem is not so much in the [UNK] i am a [UNK] person and [UNK] [UNK] the service problem is in the attitude of the people who work there just a rude and [UNK] [UNK] you are not a [UNK] in there restaurant they are doing you a [UNK] [UNK] too bad that bad service [UNK] so much from good food                                                                                                                                                                                                                                                                                                                                                                                                                                                                                                      \n",
            "\n"
          ],
          "name": "stdout"
        }
      ]
    },
    {
      "cell_type": "code",
      "metadata": {
        "id": "OyO2dDE1Mb2E"
      },
      "source": [
        "model = tf.keras.Sequential([\n",
        "    encoder,\n",
        "    tf.keras.layers.Embedding(len(encoder.get_vocabulary()), 64, mask_zero=True), #parameters:size of vocabulary, output-dimensions, mask(explained in README)\n",
        "    tf.keras.layers.Bidirectional(tf.keras.layers.LSTM(64,  return_sequences=True)),#RNN Layer with 64 LSTM units\n",
        "    tf.keras.layers.Bidirectional(tf.keras.layers.LSTM(32)),#RNN Layer with 32 LSTM units\n",
        "    tf.keras.layers.Dense(64, activation='relu'),\n",
        "    tf.keras.layers.Dropout(0.5),\n",
        "    tf.keras.layers.Dense(1)\n",
        "])"
      ],
      "execution_count": null,
      "outputs": []
    },
    {
      "cell_type": "code",
      "metadata": {
        "id": "EMkCzdIqMela"
      },
      "source": [
        "def recall_m(y_true, y_pred):\n",
        "    true_positives = K.sum(K.round(K.clip(y_true * y_pred, 0, 1)))\n",
        "    possible_positives = K.sum(K.round(K.clip(y_true, 0, 1)))\n",
        "    recall = true_positives / (possible_positives + K.epsilon())\n",
        "    return recall\n",
        "\n",
        "def precision_m(y_true, y_pred):\n",
        "    true_positives = K.sum(K.round(K.clip(y_true * y_pred, 0, 1)))\n",
        "    predicted_positives = K.sum(K.round(K.clip(y_pred, 0, 1)))\n",
        "    precision = true_positives / (predicted_positives + K.epsilon())\n",
        "    return precision\n",
        "\n",
        "def f1_m(y_true, y_pred):\n",
        "    precision = precision_m(y_true, y_pred)\n",
        "    recall = recall_m(y_true, y_pred)\n",
        "    return 2*((precision*recall)/(precision+recall+K.epsilon()))"
      ],
      "execution_count": null,
      "outputs": []
    },
    {
      "cell_type": "code",
      "metadata": {
        "id": "Dvd5L3YXNFA5"
      },
      "source": [
        "model.compile(loss=tf.keras.losses.BinaryCrossentropy(from_logits=True),# using the BinaryCrossentropy as loss function for a binary classifier\n",
        "              optimizer=tf.keras.optimizers.Adam(1e-4), #adam as optimizer\n",
        "              metrics=['accuracy', f1_m,precision_m, recall_m])"
      ],
      "execution_count": null,
      "outputs": []
    },
    {
      "cell_type": "code",
      "metadata": {
        "colab": {
          "base_uri": "https://localhost:8080/"
        },
        "id": "qP8f3Cd7VUwG",
        "outputId": "b09afe1d-d08c-44ba-96c6-814c41475cfc"
      },
      "source": [
        " history = model.fit(train_dataset, epochs=10,\n",
        "                    validation_data=test_dataset,\n",
        "                    validation_steps=30)"
      ],
      "execution_count": 64,
      "outputs": [
        {
          "output_type": "stream",
          "text": [
            "Epoch 1/10\n",
            "2188/2188 [==============================] - 527s 241ms/step - loss: 0.1669 - accuracy: 0.9298 - f1_m: 0.9276 - precision_m: 0.9532 - recall_m: 0.9041 - val_loss: 0.1707 - val_accuracy: 0.9264 - val_f1_m: 0.9258 - val_precision_m: 0.9517 - val_recall_m: 0.9019\n",
            "Epoch 2/10\n",
            "2188/2188 [==============================] - 529s 242ms/step - loss: 0.1623 - accuracy: 0.9318 - f1_m: 0.9298 - precision_m: 0.9547 - recall_m: 0.9069 - val_loss: 0.1729 - val_accuracy: 0.9214 - val_f1_m: 0.9190 - val_precision_m: 0.9646 - val_recall_m: 0.8781\n",
            "Epoch 3/10\n",
            "2188/2188 [==============================] - 522s 238ms/step - loss: 0.1582 - accuracy: 0.9336 - f1_m: 0.9316 - precision_m: 0.9561 - recall_m: 0.9091 - val_loss: 0.1656 - val_accuracy: 0.9271 - val_f1_m: 0.9254 - val_precision_m: 0.9645 - val_recall_m: 0.8900\n",
            "Epoch 4/10\n",
            "2188/2188 [==============================] - 529s 242ms/step - loss: 0.1548 - accuracy: 0.9354 - f1_m: 0.9335 - precision_m: 0.9570 - recall_m: 0.9119 - val_loss: 0.1599 - val_accuracy: 0.9312 - val_f1_m: 0.9306 - val_precision_m: 0.9568 - val_recall_m: 0.9062\n",
            "Epoch 5/10\n",
            "2188/2188 [==============================] - 524s 239ms/step - loss: 0.1513 - accuracy: 0.9371 - f1_m: 0.9353 - precision_m: 0.9580 - recall_m: 0.9143 - val_loss: 0.1610 - val_accuracy: 0.9297 - val_f1_m: 0.9282 - val_precision_m: 0.9646 - val_recall_m: 0.8949\n",
            "Epoch 6/10\n",
            "2188/2188 [==============================] - 525s 240ms/step - loss: 0.1488 - accuracy: 0.9382 - f1_m: 0.9364 - precision_m: 0.9591 - recall_m: 0.9155 - val_loss: 0.1603 - val_accuracy: 0.9336 - val_f1_m: 0.9331 - val_precision_m: 0.9565 - val_recall_m: 0.9112\n",
            "Epoch 7/10\n",
            "2188/2188 [==============================] - 526s 240ms/step - loss: 0.1461 - accuracy: 0.9393 - f1_m: 0.9376 - precision_m: 0.9598 - recall_m: 0.9171 - val_loss: 0.1556 - val_accuracy: 0.9352 - val_f1_m: 0.9349 - val_precision_m: 0.9559 - val_recall_m: 0.9151\n",
            "Epoch 8/10\n",
            "2188/2188 [==============================] - 521s 238ms/step - loss: 0.1437 - accuracy: 0.9404 - f1_m: 0.9388 - precision_m: 0.9604 - recall_m: 0.9188 - val_loss: 0.1558 - val_accuracy: 0.9361 - val_f1_m: 0.9359 - val_precision_m: 0.9547 - val_recall_m: 0.9182\n",
            "Epoch 9/10\n",
            "2188/2188 [==============================] - 528s 241ms/step - loss: 0.1413 - accuracy: 0.9413 - f1_m: 0.9398 - precision_m: 0.9610 - recall_m: 0.9200 - val_loss: 0.1556 - val_accuracy: 0.9353 - val_f1_m: 0.9345 - val_precision_m: 0.9620 - val_recall_m: 0.9089\n",
            "Epoch 10/10\n",
            "2188/2188 [==============================] - 522s 239ms/step - loss: 0.1396 - accuracy: 0.9422 - f1_m: 0.9407 - precision_m: 0.9613 - recall_m: 0.9215 - val_loss: 0.1554 - val_accuracy: 0.9382 - val_f1_m: 0.9383 - val_precision_m: 0.9518 - val_recall_m: 0.9256\n"
          ],
          "name": "stdout"
        }
      ]
    },
    {
      "cell_type": "code",
      "metadata": {
        "colab": {
          "base_uri": "https://localhost:8080/"
        },
        "id": "0W5iFhMaNaE7",
        "outputId": "f60fd149-4bfa-4ebe-8b65-a2b8caf08724"
      },
      "source": [
        "test_loss, test_acc, f1_score, precision, recall = model.evaluate(test_dataset)\n",
        "\n",
        "print('Test Loss:', test_loss)\n",
        "print('Test Accuracy:', test_acc)\n",
        "print('Test Precision:', precision)\n",
        "print('Test Recall:', recall)\n",
        "print('Test F1 Score:', f1_score)\n",
        "\n",
        "\n"
      ],
      "execution_count": 65,
      "outputs": [
        {
          "output_type": "stream",
          "text": [
            "149/149 [==============================] - 13s 86ms/step - loss: 0.1476 - accuracy: 0.9415 - f1_m: 0.9405 - precision_m: 0.9503 - recall_m: 0.9313\n",
            "Test Loss: 0.14759980142116547\n",
            "Test Accuracy: 0.9415000081062317\n",
            "Test Precision: 0.9503315091133118\n",
            "Test Recall: 0.9313362836837769\n",
            "Test F1 Score: 0.9405220746994019\n"
          ],
          "name": "stdout"
        }
      ]
    },
    {
      "cell_type": "code",
      "metadata": {
        "id": "VKctaKkEOuOV",
        "colab": {
          "base_uri": "https://localhost:8080/",
          "height": 519
        },
        "outputId": "6e2163b4-a857-4cbf-c453-7a1df3a70062"
      },
      "source": [
        "plt.figure(figsize=(16, 8))\n",
        "plt.subplot(1, 2, 1)\n",
        "plot_graphs(history, 'accuracy')\n",
        "plt.ylim(None, 1)\n",
        "plt.subplot(1, 2, 2)\n",
        "plot_graphs(history, 'loss')\n",
        "plt.ylim(0, None)"
      ],
      "execution_count": 66,
      "outputs": [
        {
          "output_type": "execute_result",
          "data": {
            "text/plain": [
              "(0.0, 0.17461035400629044)"
            ]
          },
          "metadata": {
            "tags": []
          },
          "execution_count": 66
        },
        {
          "output_type": "display_data",
          "data": {
            "image/png": "[encoded data removed]",
            "text/plain": [
              "<Figure size 1152x576 with 2 Axes>"
            ]
          },
          "metadata": {
            "tags": [],
            "needs_background": "light"
          }
        }
      ]
    },
    {
      "cell_type": "code",
      "metadata": {
        "colab": {
          "base_uri": "https://localhost:8080/"
        },
        "id": "_E2WbG0FQJgv",
        "outputId": "914e107f-38b4-42dd-d645-c53e00e82efd"
      },
      "source": [
        "\n",
        "!mkdir -p saved_model\n",
        "model.save('saved_model/SA_model')"
      ],
      "execution_count": 67,
      "outputs": [
        {
          "output_type": "stream",
          "text": [
            "WARNING:absl:Found untraced functions such as lstm_cell_25_layer_call_fn, lstm_cell_25_layer_call_and_return_conditional_losses, lstm_cell_26_layer_call_fn, lstm_cell_26_layer_call_and_return_conditional_losses, lstm_cell_28_layer_call_fn while saving (showing 5 of 20). These functions will not be directly callable after loading.\n"
          ],
          "name": "stderr"
        },
        {
          "output_type": "stream",
          "text": [
            "INFO:tensorflow:Assets written to: saved_model/SA_model/assets\n"
          ],
          "name": "stdout"
        },
        {
          "output_type": "stream",
          "text": [
            "INFO:tensorflow:Assets written to: saved_model/SA_model/assets\n"
          ],
          "name": "stderr"
        }
      ]
    }
  ]
}